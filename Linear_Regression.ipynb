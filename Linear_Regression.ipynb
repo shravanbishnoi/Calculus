{
  "nbformat": 4,
  "nbformat_minor": 0,
  "metadata": {
    "colab": {
      "provenance": [],
      "authorship_tag": "ABX9TyMqOfAxKBUyQTkNa+5AIS2a",
      "include_colab_link": true
    },
    "kernelspec": {
      "name": "python3",
      "display_name": "Python 3"
    },
    "language_info": {
      "name": "python"
    }
  },
  "cells": [
    {
      "cell_type": "markdown",
      "metadata": {
        "id": "view-in-github",
        "colab_type": "text"
      },
      "source": [
        "<a href=\"https://colab.research.google.com/github/shravanbishnoi/Calculus/blob/main/Linear_Regression.ipynb\" target=\"_parent\"><img src=\"https://colab.research.google.com/assets/colab-badge.svg\" alt=\"Open In Colab\"/></a>"
      ]
    },
    {
      "cell_type": "markdown",
      "source": [
        "Tutorial by Shravan~\n",
        "### LINEAR REGRESSION:- \n",
        "LR method is used to estimate the slope and intercept for a straight line.\n",
        "$$y_{i} = mx_{i} + c + \\epsilon_{i}$$\n",
        "\n",
        "To estimate the value of slope and intercept we will find out value of $m$ and $c$ So that the following error(SE) is minimized.\n",
        "$$(SE)^2 = \\sum_{i=1}^{n} (y_{i}-mx_{i}-c)^2$$\n",
        "\n",
        "Where ${m}$ is the slope and ${c}$ is the intercept:\n",
        "$$\\frac{\\partial SE}{\\partial m}=0 \\quad and \\quad \\frac{\\partial SE}{\\partial c} = 0$$\n",
        "\n",
        "$$m = \\frac {\\overline {xy} - \\overline {x}.\\overline {y}} {\\overline {x^2} - \\overline {x}^2} \\quad and \\quad\n",
        "c = \\overline {y} - m\\overline {x}$$\n",
        "Where\n",
        "$$\\overline {x} = {\\frac {1}{n} \\sum_i^n{x_i}} \\quad and \\quad\n",
        "\\overline {y} = {\\frac {1}{n} \\sum_i^n{y_i}}$$\n",
        "\n",
        "OBSERVATION: As we increase alpha for linear form, to a some extent we get closer to the value of m we had taken initially but after that we begin deviate from the initial value of m. It is good for estimating m but not for estimating value c."
      ],
      "metadata": {
        "id": "WPWrtH66ddzz"
      }
    },
    {
      "cell_type": "markdown",
      "source": [
        "SECTION-1: Following is the Linear Regression for linear equation"
      ],
      "metadata": {
        "id": "BFG6d73Nx-az"
      }
    },
    {
      "cell_type": "code",
      "source": [
        "# importing required modules for the calculation and plotting purpose\n",
        "import plotly.express as px\n",
        "import plotly.graph_objects as go\n",
        "import random\n",
        "import math\n",
        "import numpy as np"
      ],
      "metadata": {
        "id": "FhEZ5gPWfW84"
      },
      "execution_count": 1,
      "outputs": []
    },
    {
      "cell_type": "code",
      "execution_count": 2,
      "metadata": {
        "id": "5Bmaoa8EdW7p",
        "colab": {
          "base_uri": "https://localhost:8080/"
        },
        "outputId": "3663904d-573f-40eb-813e-5803a9e82dd4"
      },
      "outputs": [
        {
          "name": "stdout",
          "output_type": "stream",
          "text": [
            "Enter the initial i:1\n",
            "Enter the final n:100\n",
            "Enter the random value of m:10\n",
            "Enter the random value of c:6\n",
            "Enter the alpha: 400\n"
          ]
        }
      ],
      "source": [
        "i = int(input('Enter the initial i:' )) # initial value to start\n",
        "n = int(input('Enter the final n:' ))   # final value\n",
        "m = int(input('Enter the random value of m:' )) # m is the slope value\n",
        "c = int(input('Enter the random value of c:' ))  # intercept value\n",
        "alpha = int(input(\"Enter the alpha: \"))  # error moderator"
      ]
    },
    {
      "cell_type": "code",
      "source": [
        "def error(alpha, n):\n",
        "  \"\"\"Return: the list of error values.\n",
        "\n",
        "    Parameter alpha: It is the number to generate error.\n",
        "    Precondition: It must be a number.\n",
        "\n",
        "    Parameter n: It is the number of observation.\n",
        "    Precondition: It must be a number.\n",
        "    \"\"\"\n",
        "  err = []\n",
        "  for k in range(n):\n",
        "    error = ((random.random())-0.5)*alpha # generating error using random values\n",
        "    err.append(error)\n",
        "  return err"
      ],
      "metadata": {
        "id": "AaUjyDQqD-xn"
      },
      "execution_count": 3,
      "outputs": []
    },
    {
      "cell_type": "code",
      "source": [
        "def linearregression(i, n, m, c, alpha):\n",
        "  \"\"\"Returns the plotting of linear regression of the linear equaltion\"\"\"\n",
        "  # Calculating for some arbitrary m and c\n",
        "  x_i = [] \n",
        "  y_i = []\n",
        "  for k in range(n):\n",
        "    x_i.append(k)\n",
        "    err = error(alpha, n)\n",
        "    y = m*k + c + err[k]\n",
        "    y_i.append(y)\n",
        "\n",
        "  # Minimizing SE and finding m and c\n",
        "  xi_yi_bar = 0\n",
        "  x_bar = 0\n",
        "  yi_bar = 0\n",
        "  xi_sqr_bar = 0\n",
        "  xi_bar_sqr = 0\n",
        "  for j in range(n):\n",
        "    xi_yi_bar += x_i[j]*y_i[j]\n",
        "    x_bar += x_i[j]\n",
        "    yi_bar += y_i[j]\n",
        "    xi_sqr_bar += x_i[j]*x_i[j]\n",
        "    xi_bar_sqr += x_i[j]\n",
        "  m_new = (((xi_yi_bar)/n) - ((x_bar/n) * (yi_bar/n)))/((xi_sqr_bar/n) - pow((xi_bar_sqr/n),2))\n",
        "  c_new = (yi_bar/n) - m_new*(x_bar/n)\n",
        "\n",
        "  # Calculating for y = mx + c (with new m and c without error)\n",
        "  xi_new = []\n",
        "  yi_new = []\n",
        "  for a in range(n):\n",
        "    xi_new.append(a)\n",
        "    y_new = m_new*(x_i[a]) + c_new\n",
        "    yi_new.append(y_new)\n",
        "  \n",
        "  # Plotting both and comparing\n",
        "  fig = go.Figure()\n",
        "  fig.add_trace(go.Scatter(name = 'Linear Regression 1', x = x_i, y=y_i))\n",
        "  fig.add_trace(go.Scatter(name = 'Linear Regression 2', x = xi_new, y=yi_new))\n",
        "  fig.show()"
      ],
      "metadata": {
        "id": "wC9PC1Bly-_h"
      },
      "execution_count": 4,
      "outputs": []
    },
    {
      "cell_type": "code",
      "source": [
        "linearregression(i, n, m, c, alpha) # call to the above function"
      ],
      "metadata": {
        "colab": {
          "base_uri": "https://localhost:8080/",
          "height": 542
        },
        "id": "HFeNNRIx1Gcj",
        "outputId": "b9866228-5e19-49c4-8b82-7f3750a25b3a"
      },
      "execution_count": 6,
      "outputs": [
        {
          "output_type": "display_data",
          "data": {
            "text/html": [
              "<html>\n",
              "<head><meta charset=\"utf-8\" /></head>\n",
              "<body>\n",
              "    <div>            <script src=\"https://cdnjs.cloudflare.com/ajax/libs/mathjax/2.7.5/MathJax.js?config=TeX-AMS-MML_SVG\"></script><script type=\"text/javascript\">if (window.MathJax && window.MathJax.Hub && window.MathJax.Hub.Config) {window.MathJax.Hub.Config({SVG: {font: \"STIX-Web\"}});}</script>                <script type=\"text/javascript\">window.PlotlyConfig = {MathJaxConfig: 'local'};</script>\n",
              "        <script src=\"https://cdn.plot.ly/plotly-2.18.2.min.js\"></script>                <div id=\"461415c6-41cd-401c-bbb1-c0caa20255df\" class=\"plotly-graph-div\" style=\"height:525px; width:100%;\"></div>            <script type=\"text/javascript\">                                    window.PLOTLYENV=window.PLOTLYENV || {};                                    if (document.getElementById(\"461415c6-41cd-401c-bbb1-c0caa20255df\")) {                    Plotly.newPlot(                        \"461415c6-41cd-401c-bbb1-c0caa20255df\",                        [{\"name\":\"Linear Regression 1\",\"x\":[0,1,2,3,4,5,6,7,8,9,10,11,12,13,14,15,16,17,18,19,20,21,22,23,24,25,26,27,28,29,30,31,32,33,34,35,36,37,38,39,40,41,42,43,44,45,46,47,48,49,50,51,52,53,54,55,56,57,58,59,60,61,62,63,64,65,66,67,68,69,70,71,72,73,74,75,76,77,78,79,80,81,82,83,84,85,86,87,88,89,90,91,92,93,94,95,96,97,98,99],\"y\":[90.46912351099476,-112.08899283965079,185.57672736155897,192.44945977021422,241.36758021353796,187.09830307115593,68.3674050795909,63.03893907774911,81.89064892779776,286.11408839285497,62.914952756887736,183.71435685600102,225.3406462686058,128.0061936171706,325.7520921884666,13.578764622623169,277.7694437184316,41.62018706066732,160.04434453212764,376.97708831109225,377.29860461225985,57.184813676878264,79.6501615036745,171.1178147027586,48.24004479171799,389.2421917752957,436.70902355019956,351.38817947694326,358.58465994109645,96.09738777060551,275.2782155201579,489.7538289296382,515.8488550366351,373.311639513203,336.53506528736773,212.67263208708354,403.15540198771623,307.5711894957438,201.79633977952213,334.28719067123507,257.17116784979555,233.1515445892175,406.03747294772376,502.6700074870115,341.67750662951767,633.2327279613285,441.91918022940115,437.00751559064463,560.1365950024019,610.6994259440128,705.2512769797102,457.22327231814745,648.0705661687639,524.8005202896204,469.81235477095026,741.3237743726326,663.4886058230232,490.74660918511967,554.4595753454109,727.9115644542466,676.8136796182126,628.3990989117815,653.6113127771597,655.0730345546905,713.943853702707,582.7099948347618,544.6684096171128,652.8112449236185,807.9128167836468,727.4367884769609,864.0592767605671,592.7395406808084,683.7907930686121,818.0342380453076,806.1570231453067,874.0014060500478,609.0361836825807,899.4998060812218,951.0028137015604,601.4137525150218,843.638092786245,976.8910242565366,657.3556159596556,789.802196133558,991.5602349628647,978.5109831987745,1007.6732573520842,865.8083493609383,955.8339912105836,1083.992498949118,777.7244498617546,806.9798413236001,906.0131500356354,1058.291136157412,1078.842260881016,1133.9444205819968,784.5837627361072,1102.7412681391145,1071.9898712266574,1120.2995631829997],\"type\":\"scatter\"},{\"name\":\"Linear Regression 2\",\"x\":[0,1,2,3,4,5,6,7,8,9,10,11,12,13,14,15,16,17,18,19,20,21,22,23,24,25,26,27,28,29,30,31,32,33,34,35,36,37,38,39,40,41,42,43,44,45,46,47,48,49,50,51,52,53,54,55,56,57,58,59,60,61,62,63,64,65,66,67,68,69,70,71,72,73,74,75,76,77,78,79,80,81,82,83,84,85,86,87,88,89,90,91,92,93,94,95,96,97,98,99],\"y\":[26.22054204045037,36.32479510888059,46.42904817731081,56.53330124574103,66.63755431417125,76.74180738260148,86.84606045103169,96.95031351946191,107.05456658789214,117.15881965632236,127.26307272475259,137.3673257931828,147.471578861613,157.57583193004325,167.68008499847346,177.7843380669037,187.8885911353339,197.99284420376412,208.09709727219436,218.20135034062457,228.3056034090548,238.40985647748502,248.51410954591523,258.6183626143455,268.72261568277565,278.8268687512059,288.93112181963613,299.03537488806637,309.13962795649655,319.2438810249268,329.34813409335703,339.4523871617872,349.55664023021745,359.6608932986477,369.7651463670779,379.8693994355081,389.97365250393835,400.07790557236854,410.1821586407988,420.286411709229,430.39066477765925,440.49491784608944,450.5991709145197,460.7034239829499,470.8076770513801,480.91193011981034,491.0161831882406,501.12043625667076,511.224689325101,521.3289423935312,531.4331954619614,541.5374485303917,551.6417015988219,561.7459546672521,571.8502077356824,581.9544608041125,592.0587138725427,602.162966940973,612.2672200094032,622.3714730778335,632.4757261462637,642.5799792146938,652.6842322831241,662.7884853515543,672.8927384199845,682.9969914884148,693.101244556845,703.2054976252753,713.3097506937054,723.4140037621356,733.5182568305659,743.6225098989961,753.7267629674263,763.8310160358566,773.9352691042867,784.0395221727169,794.1437752411472,804.2480283095774,814.3522813780077,824.4565344464379,834.5607875148681,844.6650405832983,854.7692936517285,864.8735467201587,874.977799788589,885.0820528570192,895.1863059254495,905.2905589938796,915.3948120623098,925.4990651307401,935.6033181991703,945.7075712676005,955.8118243360308,965.9160774044609,976.0203304728911,986.1245835413214,996.2288366097516,1006.3330896781819,1016.4373427466121,1026.5415958150425],\"type\":\"scatter\"}],                        {\"template\":{\"data\":{\"histogram2dcontour\":[{\"type\":\"histogram2dcontour\",\"colorbar\":{\"outlinewidth\":0,\"ticks\":\"\"},\"colorscale\":[[0.0,\"#0d0887\"],[0.1111111111111111,\"#46039f\"],[0.2222222222222222,\"#7201a8\"],[0.3333333333333333,\"#9c179e\"],[0.4444444444444444,\"#bd3786\"],[0.5555555555555556,\"#d8576b\"],[0.6666666666666666,\"#ed7953\"],[0.7777777777777778,\"#fb9f3a\"],[0.8888888888888888,\"#fdca26\"],[1.0,\"#f0f921\"]]}],\"choropleth\":[{\"type\":\"choropleth\",\"colorbar\":{\"outlinewidth\":0,\"ticks\":\"\"}}],\"histogram2d\":[{\"type\":\"histogram2d\",\"colorbar\":{\"outlinewidth\":0,\"ticks\":\"\"},\"colorscale\":[[0.0,\"#0d0887\"],[0.1111111111111111,\"#46039f\"],[0.2222222222222222,\"#7201a8\"],[0.3333333333333333,\"#9c179e\"],[0.4444444444444444,\"#bd3786\"],[0.5555555555555556,\"#d8576b\"],[0.6666666666666666,\"#ed7953\"],[0.7777777777777778,\"#fb9f3a\"],[0.8888888888888888,\"#fdca26\"],[1.0,\"#f0f921\"]]}],\"heatmap\":[{\"type\":\"heatmap\",\"colorbar\":{\"outlinewidth\":0,\"ticks\":\"\"},\"colorscale\":[[0.0,\"#0d0887\"],[0.1111111111111111,\"#46039f\"],[0.2222222222222222,\"#7201a8\"],[0.3333333333333333,\"#9c179e\"],[0.4444444444444444,\"#bd3786\"],[0.5555555555555556,\"#d8576b\"],[0.6666666666666666,\"#ed7953\"],[0.7777777777777778,\"#fb9f3a\"],[0.8888888888888888,\"#fdca26\"],[1.0,\"#f0f921\"]]}],\"heatmapgl\":[{\"type\":\"heatmapgl\",\"colorbar\":{\"outlinewidth\":0,\"ticks\":\"\"},\"colorscale\":[[0.0,\"#0d0887\"],[0.1111111111111111,\"#46039f\"],[0.2222222222222222,\"#7201a8\"],[0.3333333333333333,\"#9c179e\"],[0.4444444444444444,\"#bd3786\"],[0.5555555555555556,\"#d8576b\"],[0.6666666666666666,\"#ed7953\"],[0.7777777777777778,\"#fb9f3a\"],[0.8888888888888888,\"#fdca26\"],[1.0,\"#f0f921\"]]}],\"contourcarpet\":[{\"type\":\"contourcarpet\",\"colorbar\":{\"outlinewidth\":0,\"ticks\":\"\"}}],\"contour\":[{\"type\":\"contour\",\"colorbar\":{\"outlinewidth\":0,\"ticks\":\"\"},\"colorscale\":[[0.0,\"#0d0887\"],[0.1111111111111111,\"#46039f\"],[0.2222222222222222,\"#7201a8\"],[0.3333333333333333,\"#9c179e\"],[0.4444444444444444,\"#bd3786\"],[0.5555555555555556,\"#d8576b\"],[0.6666666666666666,\"#ed7953\"],[0.7777777777777778,\"#fb9f3a\"],[0.8888888888888888,\"#fdca26\"],[1.0,\"#f0f921\"]]}],\"surface\":[{\"type\":\"surface\",\"colorbar\":{\"outlinewidth\":0,\"ticks\":\"\"},\"colorscale\":[[0.0,\"#0d0887\"],[0.1111111111111111,\"#46039f\"],[0.2222222222222222,\"#7201a8\"],[0.3333333333333333,\"#9c179e\"],[0.4444444444444444,\"#bd3786\"],[0.5555555555555556,\"#d8576b\"],[0.6666666666666666,\"#ed7953\"],[0.7777777777777778,\"#fb9f3a\"],[0.8888888888888888,\"#fdca26\"],[1.0,\"#f0f921\"]]}],\"mesh3d\":[{\"type\":\"mesh3d\",\"colorbar\":{\"outlinewidth\":0,\"ticks\":\"\"}}],\"scatter\":[{\"fillpattern\":{\"fillmode\":\"overlay\",\"size\":10,\"solidity\":0.2},\"type\":\"scatter\"}],\"parcoords\":[{\"type\":\"parcoords\",\"line\":{\"colorbar\":{\"outlinewidth\":0,\"ticks\":\"\"}}}],\"scatterpolargl\":[{\"type\":\"scatterpolargl\",\"marker\":{\"colorbar\":{\"outlinewidth\":0,\"ticks\":\"\"}}}],\"bar\":[{\"error_x\":{\"color\":\"#2a3f5f\"},\"error_y\":{\"color\":\"#2a3f5f\"},\"marker\":{\"line\":{\"color\":\"#E5ECF6\",\"width\":0.5},\"pattern\":{\"fillmode\":\"overlay\",\"size\":10,\"solidity\":0.2}},\"type\":\"bar\"}],\"scattergeo\":[{\"type\":\"scattergeo\",\"marker\":{\"colorbar\":{\"outlinewidth\":0,\"ticks\":\"\"}}}],\"scatterpolar\":[{\"type\":\"scatterpolar\",\"marker\":{\"colorbar\":{\"outlinewidth\":0,\"ticks\":\"\"}}}],\"histogram\":[{\"marker\":{\"pattern\":{\"fillmode\":\"overlay\",\"size\":10,\"solidity\":0.2}},\"type\":\"histogram\"}],\"scattergl\":[{\"type\":\"scattergl\",\"marker\":{\"colorbar\":{\"outlinewidth\":0,\"ticks\":\"\"}}}],\"scatter3d\":[{\"type\":\"scatter3d\",\"line\":{\"colorbar\":{\"outlinewidth\":0,\"ticks\":\"\"}},\"marker\":{\"colorbar\":{\"outlinewidth\":0,\"ticks\":\"\"}}}],\"scattermapbox\":[{\"type\":\"scattermapbox\",\"marker\":{\"colorbar\":{\"outlinewidth\":0,\"ticks\":\"\"}}}],\"scatterternary\":[{\"type\":\"scatterternary\",\"marker\":{\"colorbar\":{\"outlinewidth\":0,\"ticks\":\"\"}}}],\"scattercarpet\":[{\"type\":\"scattercarpet\",\"marker\":{\"colorbar\":{\"outlinewidth\":0,\"ticks\":\"\"}}}],\"carpet\":[{\"aaxis\":{\"endlinecolor\":\"#2a3f5f\",\"gridcolor\":\"white\",\"linecolor\":\"white\",\"minorgridcolor\":\"white\",\"startlinecolor\":\"#2a3f5f\"},\"baxis\":{\"endlinecolor\":\"#2a3f5f\",\"gridcolor\":\"white\",\"linecolor\":\"white\",\"minorgridcolor\":\"white\",\"startlinecolor\":\"#2a3f5f\"},\"type\":\"carpet\"}],\"table\":[{\"cells\":{\"fill\":{\"color\":\"#EBF0F8\"},\"line\":{\"color\":\"white\"}},\"header\":{\"fill\":{\"color\":\"#C8D4E3\"},\"line\":{\"color\":\"white\"}},\"type\":\"table\"}],\"barpolar\":[{\"marker\":{\"line\":{\"color\":\"#E5ECF6\",\"width\":0.5},\"pattern\":{\"fillmode\":\"overlay\",\"size\":10,\"solidity\":0.2}},\"type\":\"barpolar\"}],\"pie\":[{\"automargin\":true,\"type\":\"pie\"}]},\"layout\":{\"autotypenumbers\":\"strict\",\"colorway\":[\"#636efa\",\"#EF553B\",\"#00cc96\",\"#ab63fa\",\"#FFA15A\",\"#19d3f3\",\"#FF6692\",\"#B6E880\",\"#FF97FF\",\"#FECB52\"],\"font\":{\"color\":\"#2a3f5f\"},\"hovermode\":\"closest\",\"hoverlabel\":{\"align\":\"left\"},\"paper_bgcolor\":\"white\",\"plot_bgcolor\":\"#E5ECF6\",\"polar\":{\"bgcolor\":\"#E5ECF6\",\"angularaxis\":{\"gridcolor\":\"white\",\"linecolor\":\"white\",\"ticks\":\"\"},\"radialaxis\":{\"gridcolor\":\"white\",\"linecolor\":\"white\",\"ticks\":\"\"}},\"ternary\":{\"bgcolor\":\"#E5ECF6\",\"aaxis\":{\"gridcolor\":\"white\",\"linecolor\":\"white\",\"ticks\":\"\"},\"baxis\":{\"gridcolor\":\"white\",\"linecolor\":\"white\",\"ticks\":\"\"},\"caxis\":{\"gridcolor\":\"white\",\"linecolor\":\"white\",\"ticks\":\"\"}},\"coloraxis\":{\"colorbar\":{\"outlinewidth\":0,\"ticks\":\"\"}},\"colorscale\":{\"sequential\":[[0.0,\"#0d0887\"],[0.1111111111111111,\"#46039f\"],[0.2222222222222222,\"#7201a8\"],[0.3333333333333333,\"#9c179e\"],[0.4444444444444444,\"#bd3786\"],[0.5555555555555556,\"#d8576b\"],[0.6666666666666666,\"#ed7953\"],[0.7777777777777778,\"#fb9f3a\"],[0.8888888888888888,\"#fdca26\"],[1.0,\"#f0f921\"]],\"sequentialminus\":[[0.0,\"#0d0887\"],[0.1111111111111111,\"#46039f\"],[0.2222222222222222,\"#7201a8\"],[0.3333333333333333,\"#9c179e\"],[0.4444444444444444,\"#bd3786\"],[0.5555555555555556,\"#d8576b\"],[0.6666666666666666,\"#ed7953\"],[0.7777777777777778,\"#fb9f3a\"],[0.8888888888888888,\"#fdca26\"],[1.0,\"#f0f921\"]],\"diverging\":[[0,\"#8e0152\"],[0.1,\"#c51b7d\"],[0.2,\"#de77ae\"],[0.3,\"#f1b6da\"],[0.4,\"#fde0ef\"],[0.5,\"#f7f7f7\"],[0.6,\"#e6f5d0\"],[0.7,\"#b8e186\"],[0.8,\"#7fbc41\"],[0.9,\"#4d9221\"],[1,\"#276419\"]]},\"xaxis\":{\"gridcolor\":\"white\",\"linecolor\":\"white\",\"ticks\":\"\",\"title\":{\"standoff\":15},\"zerolinecolor\":\"white\",\"automargin\":true,\"zerolinewidth\":2},\"yaxis\":{\"gridcolor\":\"white\",\"linecolor\":\"white\",\"ticks\":\"\",\"title\":{\"standoff\":15},\"zerolinecolor\":\"white\",\"automargin\":true,\"zerolinewidth\":2},\"scene\":{\"xaxis\":{\"backgroundcolor\":\"#E5ECF6\",\"gridcolor\":\"white\",\"linecolor\":\"white\",\"showbackground\":true,\"ticks\":\"\",\"zerolinecolor\":\"white\",\"gridwidth\":2},\"yaxis\":{\"backgroundcolor\":\"#E5ECF6\",\"gridcolor\":\"white\",\"linecolor\":\"white\",\"showbackground\":true,\"ticks\":\"\",\"zerolinecolor\":\"white\",\"gridwidth\":2},\"zaxis\":{\"backgroundcolor\":\"#E5ECF6\",\"gridcolor\":\"white\",\"linecolor\":\"white\",\"showbackground\":true,\"ticks\":\"\",\"zerolinecolor\":\"white\",\"gridwidth\":2}},\"shapedefaults\":{\"line\":{\"color\":\"#2a3f5f\"}},\"annotationdefaults\":{\"arrowcolor\":\"#2a3f5f\",\"arrowhead\":0,\"arrowwidth\":1},\"geo\":{\"bgcolor\":\"white\",\"landcolor\":\"#E5ECF6\",\"subunitcolor\":\"white\",\"showland\":true,\"showlakes\":true,\"lakecolor\":\"white\"},\"title\":{\"x\":0.05},\"mapbox\":{\"style\":\"light\"}}}},                        {\"responsive\": true}                    ).then(function(){\n",
              "                            \n",
              "var gd = document.getElementById('461415c6-41cd-401c-bbb1-c0caa20255df');\n",
              "var x = new MutationObserver(function (mutations, observer) {{\n",
              "        var display = window.getComputedStyle(gd).display;\n",
              "        if (!display || display === 'none') {{\n",
              "            console.log([gd, 'removed!']);\n",
              "            Plotly.purge(gd);\n",
              "            observer.disconnect();\n",
              "        }}\n",
              "}});\n",
              "\n",
              "// Listen for the removal of the full notebook cells\n",
              "var notebookContainer = gd.closest('#notebook-container');\n",
              "if (notebookContainer) {{\n",
              "    x.observe(notebookContainer, {childList: true});\n",
              "}}\n",
              "\n",
              "// Listen for the clearing of the current output cell\n",
              "var outputEl = gd.closest('.output');\n",
              "if (outputEl) {{\n",
              "    x.observe(outputEl, {childList: true});\n",
              "}}\n",
              "\n",
              "                        })                };                            </script>        </div>\n",
              "</body>\n",
              "</html>"
            ]
          },
          "metadata": {}
        }
      ]
    },
    {
      "cell_type": "markdown",
      "source": [
        "SECTION-2: Following is the Linear Regression for exponential equation:\n",
        "$$y_i = βe^{γx_i + ϵ_i}$$\n",
        "To solve this by linear regression first of all convert it into linear equation by taking log on both side:\n",
        "$$\\log y_i= log β+ γx_i+ϵ_i$$\n",
        "consider: $y_i^{new}=log y_i, \\quad c=log β \\quad and \\quad m=γ$"
      ],
      "metadata": {
        "id": "ZvnIMFOSedBb"
      }
    },
    {
      "cell_type": "code",
      "source": [
        "# Prompting user to enter initial values of gama and beta.\n",
        "beta = float(input('Enter the random value of beta:' ))\n",
        "gamma = float(input('Enter the random value of gamma:' ))\n",
        "alpha = float(input('Enter the random value of alpha(0.5): '))"
      ],
      "metadata": {
        "id": "uMEBToqGDktn",
        "colab": {
          "base_uri": "https://localhost:8080/"
        },
        "outputId": "d5185f80-25ef-4dc1-8451-6f8c48961c6c"
      },
      "execution_count": 7,
      "outputs": [
        {
          "name": "stdout",
          "output_type": "stream",
          "text": [
            "Enter the random value of beta:20\n",
            "Enter the random value of gamma:5\n",
            "Enter the random value of alpha(0.5): 0.5\n"
          ]
        }
      ]
    },
    {
      "cell_type": "code",
      "source": [
        "# using math exponential\n",
        "x_i = []\n",
        "y_i = []\n",
        "z_i = []\n",
        "for k in range(n):\n",
        "  x_i.append(k/100)\n",
        "  err = error(alpha, n)\n",
        "  y = beta*math.exp(gamma*x_i[k] + err[k])\n",
        "  y_i.append(y)\n",
        "for j in range(n):\n",
        "  zi = math.log(y_i[j])\n",
        "  z_i.append(zi)"
      ],
      "metadata": {
        "id": "1BjDEHd8aORT"
      },
      "execution_count": 8,
      "outputs": []
    },
    {
      "cell_type": "code",
      "source": [
        "xi_zi_bar = 0\n",
        "x_bar = 0\n",
        "zi_bar = 0\n",
        "xi_sqr_bar = 0\n",
        "xi_bar_sqr = 0\n",
        "for j in range(n):\n",
        "  xi_zi_bar += x_i[j]*z_i[j]\n",
        "  x_bar += x_i[j]\n",
        "  zi_bar += z_i[j]\n",
        "  xi_sqr_bar += x_i[j]*x_i[j]\n",
        "  xi_bar_sqr += x_i[j]\n",
        "m_new = (((xi_zi_bar)/n) - ((x_bar/n) * (zi_bar/n)))/((xi_sqr_bar/n) - pow((xi_bar_sqr/n),2))\n",
        "c_new = (zi_bar/n) - m_new*(x_bar/n)"
      ],
      "metadata": {
        "id": "a9XpmDFrbFWt"
      },
      "execution_count": 9,
      "outputs": []
    },
    {
      "cell_type": "code",
      "source": [
        "gamma_new = m_new\n",
        "beta_new = math.exp(c_new)\n",
        "yi_new = []\n",
        "for a in range(n):\n",
        "  y = beta_new*math.exp(gamma_new*x_i[a])\n",
        "  yi_new.append(y)"
      ],
      "metadata": {
        "id": "DEaQ7yWEbjoc"
      },
      "execution_count": 10,
      "outputs": []
    },
    {
      "cell_type": "code",
      "source": [
        "fig = go.Figure()\n",
        "fig.add_trace(go.Scatter(name = 'Linear Regression 1', x = x_i, y=y_i))\n",
        "fig.add_trace(go.Scatter(name = 'Linear Regression 2', x = x_i, y=yi_new))\n",
        "fig.show()"
      ],
      "metadata": {
        "colab": {
          "base_uri": "https://localhost:8080/",
          "height": 542
        },
        "id": "U0lsGT7qcCR1",
        "outputId": "ff302820-3c71-48ba-dcc4-1c51e671df9c"
      },
      "execution_count": 11,
      "outputs": [
        {
          "output_type": "display_data",
          "data": {
            "text/html": [
              "<html>\n",
              "<head><meta charset=\"utf-8\" /></head>\n",
              "<body>\n",
              "    <div>            <script src=\"https://cdnjs.cloudflare.com/ajax/libs/mathjax/2.7.5/MathJax.js?config=TeX-AMS-MML_SVG\"></script><script type=\"text/javascript\">if (window.MathJax && window.MathJax.Hub && window.MathJax.Hub.Config) {window.MathJax.Hub.Config({SVG: {font: \"STIX-Web\"}});}</script>                <script type=\"text/javascript\">window.PlotlyConfig = {MathJaxConfig: 'local'};</script>\n",
              "        <script src=\"https://cdn.plot.ly/plotly-2.18.2.min.js\"></script>                <div id=\"7c3d0983-0ca5-4e82-b9c3-46a4ccc8fa90\" class=\"plotly-graph-div\" style=\"height:525px; width:100%;\"></div>            <script type=\"text/javascript\">                                    window.PLOTLYENV=window.PLOTLYENV || {};                                    if (document.getElementById(\"7c3d0983-0ca5-4e82-b9c3-46a4ccc8fa90\")) {                    Plotly.newPlot(                        \"7c3d0983-0ca5-4e82-b9c3-46a4ccc8fa90\",                        [{\"name\":\"Linear Regression 1\",\"x\":[0.0,0.01,0.02,0.03,0.04,0.05,0.06,0.07,0.08,0.09,0.1,0.11,0.12,0.13,0.14,0.15,0.16,0.17,0.18,0.19,0.2,0.21,0.22,0.23,0.24,0.25,0.26,0.27,0.28,0.29,0.3,0.31,0.32,0.33,0.34,0.35,0.36,0.37,0.38,0.39,0.4,0.41,0.42,0.43,0.44,0.45,0.46,0.47,0.48,0.49,0.5,0.51,0.52,0.53,0.54,0.55,0.56,0.57,0.58,0.59,0.6,0.61,0.62,0.63,0.64,0.65,0.66,0.67,0.68,0.69,0.7,0.71,0.72,0.73,0.74,0.75,0.76,0.77,0.78,0.79,0.8,0.81,0.82,0.83,0.84,0.85,0.86,0.87,0.88,0.89,0.9,0.91,0.92,0.93,0.94,0.95,0.96,0.97,0.98,0.99],\"y\":[19.04532139972006,24.99900084729516,25.931528671437857,25.945819394064443,25.870664929093724,26.474803884422396,31.79541579722816,30.25740055743519,29.497323694528845,39.6804866629042,35.39130617366451,43.55657132038839,46.229306925515075,32.15413872373885,51.52284687386883,33.65942760409834,48.31867724638314,42.891905374520306,43.82846764638741,61.21342988722982,61.55787490402513,68.02261648123938,74.77005644938845,63.28060080163453,61.01279896622154,79.85269422974103,58.986533616364596,70.69749574587607,88.0431199531737,83.04078325183033,88.78168568817725,76.10160086473874,105.86337619717173,97.58658570839586,108.22480132933444,121.0308370501591,106.42705469308905,120.97792009343075,113.67629221294338,141.30644549385676,129.71649774014668,177.9695383390905,183.76068838904754,193.19124202304317,201.40776233242764,161.41131617950325,169.58450491736284,267.3272612734005,198.23094127522776,193.57588701026447,229.5026710517987,256.8078442438485,289.8553253101861,323.995469436599,299.5815826975946,366.953066449725,275.63011938284217,270.1592884736186,305.43785957941935,328.6405323813102,491.93466566183616,465.1491294114964,523.3220127880438,493.03555741813614,402.7422777928159,489.1076293396702,666.8407239035535,628.2226175911237,490.28881648951585,552.3216022548077,582.7326674026527,870.248318766446,929.5760066946325,642.615093744578,882.2618805630963,956.7284244797737,803.6618286014136,735.0207804257634,1049.7581480407198,1185.0998667450901,916.4615593720457,895.1990727914325,1504.8358402610177,1131.4146557344393,1633.2172647996797,1135.5804001248346,1168.3117985013985,1333.003831226783,1799.128525450577,1924.5267444614567,2118.850037899244,1859.7469883604347,1710.1350277273343,1807.2485478965248,1802.533345606398,2188.970471398545,2239.9795469805495,3116.123963381931,2964.2798177876716,3106.258883447719],\"type\":\"scatter\"},{\"name\":\"Linear Regression 2\",\"x\":[0.0,0.01,0.02,0.03,0.04,0.05,0.06,0.07,0.08,0.09,0.1,0.11,0.12,0.13,0.14,0.15,0.16,0.17,0.18,0.19,0.2,0.21,0.22,0.23,0.24,0.25,0.26,0.27,0.28,0.29,0.3,0.31,0.32,0.33,0.34,0.35,0.36,0.37,0.38,0.39,0.4,0.41,0.42,0.43,0.44,0.45,0.46,0.47,0.48,0.49,0.5,0.51,0.52,0.53,0.54,0.55,0.56,0.57,0.58,0.59,0.6,0.61,0.62,0.63,0.64,0.65,0.66,0.67,0.68,0.69,0.7,0.71,0.72,0.73,0.74,0.75,0.76,0.77,0.78,0.79,0.8,0.81,0.82,0.83,0.84,0.85,0.86,0.87,0.88,0.89,0.9,0.91,0.92,0.93,0.94,0.95,0.96,0.97,0.98,0.99],\"y\":[21.082780556985615,22.142644167632522,23.25578874234094,24.424892796631926,25.652769499096795,26.942373440612794,28.29680774385766,29.71933153023028,31.21336776214493,32.782511479569585,34.43053845062762,36.1614142570785,37.97930383653943,39.888581504409146,41.89384147960908,43.999908939469606,46.2118516303624,48.534992062017025,50.974920314864285,53.537507491224616,56.228919842708024,59.05563360782007,62.02445059547713,65.14251455192861,68.41732835046949,71.85677204530587,75.46912183301616,79.26306996723363,83.24774567447069,87.43273712141364,91.82811448654674,96.44445419162234,101.29286435128388,106.38501150208022,111.7331486751889,117.35014488039744,123.24951607229008,129.44545767315162,135.95287873084737,142.78743779387258,149.96558058989436,157.50457959845255,165.4225756130402,173.73862139257355,182.47272750728789,191.64591048937723,201.28024340423949,211.39890896401633,222.02625531123152,233.18785460675718,244.91056456308849,257.22259307098847,270.1535660750141,283.7345988612484,297.99837092877544,312.9792046250602,328.7131477344477,345.2380602185129,362.59370531698113,380.8218452284294,399.96634160100507,420.0732610749648,441.19098613099936,463.37033151107244,486.6646664919131,511.130043305385,536.8253320147415,563.8123621713186,592.1560715925249,621.9246626191285,653.1897662278392,686.0266143940769,720.5142211196832,756.7355725611717,794.7778267160149,834.7325231474696,876.6958032525856,920.7686416034262,967.0570889181665,1015.6725272467169,1066.7319379849218,1120.3581833622404,1176.6803020802415,1235.8338198133006,1297.961075318642,1363.2115629404243,1431.7422923320432,1503.7181662622081,1579.3123774139206,1658.7068251311437,1742.0925531159503,1829.6702091293907,1921.650527802225,2018.2548377172725,2119.715593983591,2226.276937583955,2338.1952828415906,2455.7399344197665,2579.193735338904,2708.853747570468],\"type\":\"scatter\"}],                        {\"template\":{\"data\":{\"histogram2dcontour\":[{\"type\":\"histogram2dcontour\",\"colorbar\":{\"outlinewidth\":0,\"ticks\":\"\"},\"colorscale\":[[0.0,\"#0d0887\"],[0.1111111111111111,\"#46039f\"],[0.2222222222222222,\"#7201a8\"],[0.3333333333333333,\"#9c179e\"],[0.4444444444444444,\"#bd3786\"],[0.5555555555555556,\"#d8576b\"],[0.6666666666666666,\"#ed7953\"],[0.7777777777777778,\"#fb9f3a\"],[0.8888888888888888,\"#fdca26\"],[1.0,\"#f0f921\"]]}],\"choropleth\":[{\"type\":\"choropleth\",\"colorbar\":{\"outlinewidth\":0,\"ticks\":\"\"}}],\"histogram2d\":[{\"type\":\"histogram2d\",\"colorbar\":{\"outlinewidth\":0,\"ticks\":\"\"},\"colorscale\":[[0.0,\"#0d0887\"],[0.1111111111111111,\"#46039f\"],[0.2222222222222222,\"#7201a8\"],[0.3333333333333333,\"#9c179e\"],[0.4444444444444444,\"#bd3786\"],[0.5555555555555556,\"#d8576b\"],[0.6666666666666666,\"#ed7953\"],[0.7777777777777778,\"#fb9f3a\"],[0.8888888888888888,\"#fdca26\"],[1.0,\"#f0f921\"]]}],\"heatmap\":[{\"type\":\"heatmap\",\"colorbar\":{\"outlinewidth\":0,\"ticks\":\"\"},\"colorscale\":[[0.0,\"#0d0887\"],[0.1111111111111111,\"#46039f\"],[0.2222222222222222,\"#7201a8\"],[0.3333333333333333,\"#9c179e\"],[0.4444444444444444,\"#bd3786\"],[0.5555555555555556,\"#d8576b\"],[0.6666666666666666,\"#ed7953\"],[0.7777777777777778,\"#fb9f3a\"],[0.8888888888888888,\"#fdca26\"],[1.0,\"#f0f921\"]]}],\"heatmapgl\":[{\"type\":\"heatmapgl\",\"colorbar\":{\"outlinewidth\":0,\"ticks\":\"\"},\"colorscale\":[[0.0,\"#0d0887\"],[0.1111111111111111,\"#46039f\"],[0.2222222222222222,\"#7201a8\"],[0.3333333333333333,\"#9c179e\"],[0.4444444444444444,\"#bd3786\"],[0.5555555555555556,\"#d8576b\"],[0.6666666666666666,\"#ed7953\"],[0.7777777777777778,\"#fb9f3a\"],[0.8888888888888888,\"#fdca26\"],[1.0,\"#f0f921\"]]}],\"contourcarpet\":[{\"type\":\"contourcarpet\",\"colorbar\":{\"outlinewidth\":0,\"ticks\":\"\"}}],\"contour\":[{\"type\":\"contour\",\"colorbar\":{\"outlinewidth\":0,\"ticks\":\"\"},\"colorscale\":[[0.0,\"#0d0887\"],[0.1111111111111111,\"#46039f\"],[0.2222222222222222,\"#7201a8\"],[0.3333333333333333,\"#9c179e\"],[0.4444444444444444,\"#bd3786\"],[0.5555555555555556,\"#d8576b\"],[0.6666666666666666,\"#ed7953\"],[0.7777777777777778,\"#fb9f3a\"],[0.8888888888888888,\"#fdca26\"],[1.0,\"#f0f921\"]]}],\"surface\":[{\"type\":\"surface\",\"colorbar\":{\"outlinewidth\":0,\"ticks\":\"\"},\"colorscale\":[[0.0,\"#0d0887\"],[0.1111111111111111,\"#46039f\"],[0.2222222222222222,\"#7201a8\"],[0.3333333333333333,\"#9c179e\"],[0.4444444444444444,\"#bd3786\"],[0.5555555555555556,\"#d8576b\"],[0.6666666666666666,\"#ed7953\"],[0.7777777777777778,\"#fb9f3a\"],[0.8888888888888888,\"#fdca26\"],[1.0,\"#f0f921\"]]}],\"mesh3d\":[{\"type\":\"mesh3d\",\"colorbar\":{\"outlinewidth\":0,\"ticks\":\"\"}}],\"scatter\":[{\"fillpattern\":{\"fillmode\":\"overlay\",\"size\":10,\"solidity\":0.2},\"type\":\"scatter\"}],\"parcoords\":[{\"type\":\"parcoords\",\"line\":{\"colorbar\":{\"outlinewidth\":0,\"ticks\":\"\"}}}],\"scatterpolargl\":[{\"type\":\"scatterpolargl\",\"marker\":{\"colorbar\":{\"outlinewidth\":0,\"ticks\":\"\"}}}],\"bar\":[{\"error_x\":{\"color\":\"#2a3f5f\"},\"error_y\":{\"color\":\"#2a3f5f\"},\"marker\":{\"line\":{\"color\":\"#E5ECF6\",\"width\":0.5},\"pattern\":{\"fillmode\":\"overlay\",\"size\":10,\"solidity\":0.2}},\"type\":\"bar\"}],\"scattergeo\":[{\"type\":\"scattergeo\",\"marker\":{\"colorbar\":{\"outlinewidth\":0,\"ticks\":\"\"}}}],\"scatterpolar\":[{\"type\":\"scatterpolar\",\"marker\":{\"colorbar\":{\"outlinewidth\":0,\"ticks\":\"\"}}}],\"histogram\":[{\"marker\":{\"pattern\":{\"fillmode\":\"overlay\",\"size\":10,\"solidity\":0.2}},\"type\":\"histogram\"}],\"scattergl\":[{\"type\":\"scattergl\",\"marker\":{\"colorbar\":{\"outlinewidth\":0,\"ticks\":\"\"}}}],\"scatter3d\":[{\"type\":\"scatter3d\",\"line\":{\"colorbar\":{\"outlinewidth\":0,\"ticks\":\"\"}},\"marker\":{\"colorbar\":{\"outlinewidth\":0,\"ticks\":\"\"}}}],\"scattermapbox\":[{\"type\":\"scattermapbox\",\"marker\":{\"colorbar\":{\"outlinewidth\":0,\"ticks\":\"\"}}}],\"scatterternary\":[{\"type\":\"scatterternary\",\"marker\":{\"colorbar\":{\"outlinewidth\":0,\"ticks\":\"\"}}}],\"scattercarpet\":[{\"type\":\"scattercarpet\",\"marker\":{\"colorbar\":{\"outlinewidth\":0,\"ticks\":\"\"}}}],\"carpet\":[{\"aaxis\":{\"endlinecolor\":\"#2a3f5f\",\"gridcolor\":\"white\",\"linecolor\":\"white\",\"minorgridcolor\":\"white\",\"startlinecolor\":\"#2a3f5f\"},\"baxis\":{\"endlinecolor\":\"#2a3f5f\",\"gridcolor\":\"white\",\"linecolor\":\"white\",\"minorgridcolor\":\"white\",\"startlinecolor\":\"#2a3f5f\"},\"type\":\"carpet\"}],\"table\":[{\"cells\":{\"fill\":{\"color\":\"#EBF0F8\"},\"line\":{\"color\":\"white\"}},\"header\":{\"fill\":{\"color\":\"#C8D4E3\"},\"line\":{\"color\":\"white\"}},\"type\":\"table\"}],\"barpolar\":[{\"marker\":{\"line\":{\"color\":\"#E5ECF6\",\"width\":0.5},\"pattern\":{\"fillmode\":\"overlay\",\"size\":10,\"solidity\":0.2}},\"type\":\"barpolar\"}],\"pie\":[{\"automargin\":true,\"type\":\"pie\"}]},\"layout\":{\"autotypenumbers\":\"strict\",\"colorway\":[\"#636efa\",\"#EF553B\",\"#00cc96\",\"#ab63fa\",\"#FFA15A\",\"#19d3f3\",\"#FF6692\",\"#B6E880\",\"#FF97FF\",\"#FECB52\"],\"font\":{\"color\":\"#2a3f5f\"},\"hovermode\":\"closest\",\"hoverlabel\":{\"align\":\"left\"},\"paper_bgcolor\":\"white\",\"plot_bgcolor\":\"#E5ECF6\",\"polar\":{\"bgcolor\":\"#E5ECF6\",\"angularaxis\":{\"gridcolor\":\"white\",\"linecolor\":\"white\",\"ticks\":\"\"},\"radialaxis\":{\"gridcolor\":\"white\",\"linecolor\":\"white\",\"ticks\":\"\"}},\"ternary\":{\"bgcolor\":\"#E5ECF6\",\"aaxis\":{\"gridcolor\":\"white\",\"linecolor\":\"white\",\"ticks\":\"\"},\"baxis\":{\"gridcolor\":\"white\",\"linecolor\":\"white\",\"ticks\":\"\"},\"caxis\":{\"gridcolor\":\"white\",\"linecolor\":\"white\",\"ticks\":\"\"}},\"coloraxis\":{\"colorbar\":{\"outlinewidth\":0,\"ticks\":\"\"}},\"colorscale\":{\"sequential\":[[0.0,\"#0d0887\"],[0.1111111111111111,\"#46039f\"],[0.2222222222222222,\"#7201a8\"],[0.3333333333333333,\"#9c179e\"],[0.4444444444444444,\"#bd3786\"],[0.5555555555555556,\"#d8576b\"],[0.6666666666666666,\"#ed7953\"],[0.7777777777777778,\"#fb9f3a\"],[0.8888888888888888,\"#fdca26\"],[1.0,\"#f0f921\"]],\"sequentialminus\":[[0.0,\"#0d0887\"],[0.1111111111111111,\"#46039f\"],[0.2222222222222222,\"#7201a8\"],[0.3333333333333333,\"#9c179e\"],[0.4444444444444444,\"#bd3786\"],[0.5555555555555556,\"#d8576b\"],[0.6666666666666666,\"#ed7953\"],[0.7777777777777778,\"#fb9f3a\"],[0.8888888888888888,\"#fdca26\"],[1.0,\"#f0f921\"]],\"diverging\":[[0,\"#8e0152\"],[0.1,\"#c51b7d\"],[0.2,\"#de77ae\"],[0.3,\"#f1b6da\"],[0.4,\"#fde0ef\"],[0.5,\"#f7f7f7\"],[0.6,\"#e6f5d0\"],[0.7,\"#b8e186\"],[0.8,\"#7fbc41\"],[0.9,\"#4d9221\"],[1,\"#276419\"]]},\"xaxis\":{\"gridcolor\":\"white\",\"linecolor\":\"white\",\"ticks\":\"\",\"title\":{\"standoff\":15},\"zerolinecolor\":\"white\",\"automargin\":true,\"zerolinewidth\":2},\"yaxis\":{\"gridcolor\":\"white\",\"linecolor\":\"white\",\"ticks\":\"\",\"title\":{\"standoff\":15},\"zerolinecolor\":\"white\",\"automargin\":true,\"zerolinewidth\":2},\"scene\":{\"xaxis\":{\"backgroundcolor\":\"#E5ECF6\",\"gridcolor\":\"white\",\"linecolor\":\"white\",\"showbackground\":true,\"ticks\":\"\",\"zerolinecolor\":\"white\",\"gridwidth\":2},\"yaxis\":{\"backgroundcolor\":\"#E5ECF6\",\"gridcolor\":\"white\",\"linecolor\":\"white\",\"showbackground\":true,\"ticks\":\"\",\"zerolinecolor\":\"white\",\"gridwidth\":2},\"zaxis\":{\"backgroundcolor\":\"#E5ECF6\",\"gridcolor\":\"white\",\"linecolor\":\"white\",\"showbackground\":true,\"ticks\":\"\",\"zerolinecolor\":\"white\",\"gridwidth\":2}},\"shapedefaults\":{\"line\":{\"color\":\"#2a3f5f\"}},\"annotationdefaults\":{\"arrowcolor\":\"#2a3f5f\",\"arrowhead\":0,\"arrowwidth\":1},\"geo\":{\"bgcolor\":\"white\",\"landcolor\":\"#E5ECF6\",\"subunitcolor\":\"white\",\"showland\":true,\"showlakes\":true,\"lakecolor\":\"white\"},\"title\":{\"x\":0.05},\"mapbox\":{\"style\":\"light\"}}}},                        {\"responsive\": true}                    ).then(function(){\n",
              "                            \n",
              "var gd = document.getElementById('7c3d0983-0ca5-4e82-b9c3-46a4ccc8fa90');\n",
              "var x = new MutationObserver(function (mutations, observer) {{\n",
              "        var display = window.getComputedStyle(gd).display;\n",
              "        if (!display || display === 'none') {{\n",
              "            console.log([gd, 'removed!']);\n",
              "            Plotly.purge(gd);\n",
              "            observer.disconnect();\n",
              "        }}\n",
              "}});\n",
              "\n",
              "// Listen for the removal of the full notebook cells\n",
              "var notebookContainer = gd.closest('#notebook-container');\n",
              "if (notebookContainer) {{\n",
              "    x.observe(notebookContainer, {childList: true});\n",
              "}}\n",
              "\n",
              "// Listen for the clearing of the current output cell\n",
              "var outputEl = gd.closest('.output');\n",
              "if (outputEl) {{\n",
              "    x.observe(outputEl, {childList: true});\n",
              "}}\n",
              "\n",
              "                        })                };                            </script>        </div>\n",
              "</body>\n",
              "</html>"
            ]
          },
          "metadata": {}
        }
      ]
    },
    {
      "cell_type": "markdown",
      "source": [
        "SECTION-3: Following is the Linear Regression for POLYNOMIAL EQUATION\n",
        "$$y_i=m_0+m_1x_i+m_2x_i^2+m_3x_i^3 + m_4x_i^4+...$$\n",
        "To solve this by Linear regression first of all convert into linear equation of multi variable as follows:\n",
        "$$y_i=m_0+m_1x_{1i}+ m_2x_{2i}+m_3x_{3i}...$$\n",
        "where $\\quad x_{1i}=x_i, \\quad x_{2i}=x_i^2, \\quad x_{3i}=x_i^3$ and so on..."
      ],
      "metadata": {
        "id": "c_nr8R8-eibb"
      }
    },
    {
      "cell_type": "code",
      "source": [
        "n = int(input(\"Enter the final n: \"))\n",
        "degree = int(input(\"Enter the degree of the polynomial: \")) # degree of the polynomial\n",
        "m = [float(input(\"Enter the values of coefficients: \")) for j in range(degree + 1)] # coefficients degree+1\n",
        "alpha = float(input('Enter the random value of alpha: ')) # error moderator"
      ],
      "metadata": {
        "colab": {
          "base_uri": "https://localhost:8080/"
        },
        "id": "76EFenDNQHxE",
        "outputId": "02b21252-7f01-445f-9f70-c4ee9ca81898"
      },
      "execution_count": 12,
      "outputs": [
        {
          "name": "stdout",
          "output_type": "stream",
          "text": [
            "Enter the final n: 100\n",
            "Enter the degree of the polynomial: 7\n",
            "Enter the values of coefficients: 3\n",
            "Enter the values of coefficients: 34.5\n",
            "Enter the values of coefficients: 45.00\n",
            "Enter the values of coefficients: 65.032\n",
            "Enter the values of coefficients: 33\n",
            "Enter the values of coefficients: 54\n",
            "Enter the values of coefficients: 41\n",
            "Enter the values of coefficients: 8\n",
            "Enter the random value of alpha: 0.5\n"
          ]
        }
      ]
    },
    {
      "cell_type": "code",
      "source": [
        "x_i = [k/10 for k in range(n)]\n",
        "err = error(alpha, n) # calling error function for error list\n",
        "\n",
        "y_i = []\n",
        "for j in range(n):\n",
        "  y = m[0]\n",
        "  for k in range(degree):\n",
        "    y += m[k+1]*x_i[j]**(k+1)\n",
        "  y_i.append(y + err[j])"
      ],
      "metadata": {
        "id": "9F4f0EYwRn-r"
      },
      "execution_count": 13,
      "outputs": []
    },
    {
      "cell_type": "code",
      "source": [
        "column = [] # column vector with matrix on left hand side\n",
        "for j in range(degree*2+1):\n",
        "  val = 0\n",
        "  for k in range(n):\n",
        "    val += x_i[k]**j\n",
        "  column.append(val)\n",
        "matrix = [] # matrix \n",
        "for j in range(degree + 1):\n",
        "  matrix.append(column[j:j+degree+1])"
      ],
      "metadata": {
        "id": "-12sV5CoScTy"
      },
      "execution_count": 14,
      "outputs": []
    },
    {
      "cell_type": "code",
      "source": [
        "cont = [] # column vector on the right side\n",
        "for j in range(degree + 1):\n",
        "  val = 0\n",
        "  for k in range(n):\n",
        "    val += y_i[k]*x_i[k]**j\n",
        "  cont.append([val])\n"
      ],
      "metadata": {
        "id": "75F1ip6zm_QA"
      },
      "execution_count": 15,
      "outputs": []
    },
    {
      "cell_type": "code",
      "source": [
        "# calculating m values\n",
        "inverse = np.linalg.inv(matrix)        # inverse of matrix\n",
        "multi = np.dot(inverse, cont)     # list of calculated m\n",
        "\n",
        "for k in range(degree + 1):\n",
        "    print(f\"Initial Value given explicitly of m{k}: \", m[k])\n",
        "    print(f\"Final Calculated value of m{k}: \", multi[k][0])"
      ],
      "metadata": {
        "colab": {
          "base_uri": "https://localhost:8080/"
        },
        "id": "iMSki22AkJeH",
        "outputId": "b5c6f9e6-061e-48d7-d78f-a1af4c5a75dc"
      },
      "execution_count": 17,
      "outputs": [
        {
          "output_type": "stream",
          "name": "stdout",
          "text": [
            "Initial Value given explicitly of m0:  3.0\n",
            "Final Calculated value of m0:  1.91748046875\n",
            "Initial Value given explicitly of m1:  34.5\n",
            "Final Calculated value of m1:  33.1328125\n",
            "Initial Value given explicitly of m2:  45.0\n",
            "Final Calculated value of m2:  46.390625\n",
            "Initial Value given explicitly of m3:  65.032\n",
            "Final Calculated value of m3:  64.439453125\n",
            "Initial Value given explicitly of m4:  33.0\n",
            "Final Calculated value of m4:  33.14306640625\n",
            "Initial Value given explicitly of m5:  54.0\n",
            "Final Calculated value of m5:  53.980224609375\n",
            "Initial Value given explicitly of m6:  41.0\n",
            "Final Calculated value of m6:  41.001426696777344\n",
            "Initial Value given explicitly of m7:  8.0\n",
            "Final Calculated value of m7:  7.9999589920043945\n"
          ]
        }
      ]
    },
    {
      "cell_type": "markdown",
      "source": [
        "OBSERVATION: The above code is for nth degree polynomial.It returns almost exact values which are given initially but above 7 degree polynomial is may return values which differs from the values given initially. Also at alpha=0.5 is provides exact values."
      ],
      "metadata": {
        "id": "57vM2MwQoION"
      }
    }
  ]
}
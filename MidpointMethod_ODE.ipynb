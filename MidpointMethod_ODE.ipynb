{
  "nbformat": 4,
  "nbformat_minor": 0,
  "metadata": {
    "colab": {
      "provenance": [],
      "authorship_tag": "ABX9TyOafgWFSC+1uVCWSvCtWmEU",
      "include_colab_link": true
    },
    "kernelspec": {
      "name": "python3",
      "display_name": "Python 3"
    },
    "language_info": {
      "name": "python"
    }
  },
  "cells": [
    {
      "cell_type": "markdown",
      "metadata": {
        "id": "view-in-github",
        "colab_type": "text"
      },
      "source": [
        "<a href=\"https://colab.research.google.com/github/shravanbishnoi/Calculus/blob/main/Midpoint_method_ODE.ipynb\" target=\"_parent\"><img src=\"https://colab.research.google.com/assets/colab-badge.svg\" alt=\"Open In Colab\"/></a>"
      ]
    },
    {
      "cell_type": "markdown",
      "source": [
        "ODE = dx/dt program to solve using Mid point method"
      ],
      "metadata": {
        "id": "p9FWwy8mvyI9"
      }
    },
    {
      "cell_type": "code",
      "execution_count": 25,
      "metadata": {
        "id": "5PaO9enIsR-u"
      },
      "outputs": [],
      "source": [
        "# importing matplotlib for plotting and math\n",
        "import matplotlib.pyplot as plt\n",
        "import math"
      ]
    },
    {
      "cell_type": "markdown",
      "source": [
        "The following is the Analytical Solution and plotting"
      ],
      "metadata": {
        "id": "-igALETQ81d4"
      }
    },
    {
      "cell_type": "code",
      "source": [
        "lst_t = [] # initializer\n",
        "lst_x = [] # initializer\n",
        "def analytical(time):\n",
        "  global lst_t, lst_x\n",
        "  time = int(1 // time)\n",
        "  lst_t = [t / time for t in range(5 * time + 1)] # time array with given difference\n",
        "  lst_x = [eval('math.exp(t)') for t in lst_t] # using math exponential\n",
        "  plt.plot(lst_t, lst_x) # plotting"
      ],
      "metadata": {
        "id": "2WhOlhSVwWQc"
      },
      "execution_count": 39,
      "outputs": []
    },
    {
      "cell_type": "code",
      "source": [
        "lst_mid_t = []\n",
        "lst_mid_x = []\n",
        "def nummid(time):\n",
        "  global lst_mid_x, lst_mid_t\n",
        "  delta_t = time\n",
        "  time = int(1 // time)\n",
        "  lst_mid_t = [t / time for t in range(5 * time + 1)]\n",
        "  lst_mid_x = [1]\n",
        "  x = 1\n",
        "  initial_t = 0 # initial value\n",
        "  for i in range(5 * time):\n",
        "      mid_t = initial_t + 0.5 * delta_t\n",
        "      mid_x = x + 0.5 * delta_t * (x)\n",
        "      initial_t += delta_t\n",
        "      x += delta_t * mid_x # calculating xn+1\n",
        "      lst_mid_x.append(x)\n",
        "  plt.plot(lst_mid_t, lst_mid_x) # plotting"
      ],
      "metadata": {
        "id": "C82lb-rb9LPz"
      },
      "execution_count": 40,
      "outputs": []
    },
    {
      "cell_type": "code",
      "source": [
        "analytical(0.1)\n",
        "nummid(0.1)\n",
        "plt.show()"
      ],
      "metadata": {
        "colab": {
          "base_uri": "https://localhost:8080/",
          "height": 265
        },
        "id": "i5KP3bQSENfx",
        "outputId": "1427b6d2-dd4d-46cd-ce52-1a3f381ab090"
      },
      "execution_count": 41,
      "outputs": [
        {
          "output_type": "display_data",
          "data": {
            "text/plain": [
              "<Figure size 432x288 with 1 Axes>"
            ],
            "image/png": "[encoded data removed]"
          },
          "metadata": {
            "needs_background": "light"
          }
        }
      ]
    },
    {
      "cell_type": "markdown",
      "source": [
        "Plotting graph for error funtion in Euler Mid point method"
      ],
      "metadata": {
        "id": "AfgJMsOMTpc3"
      }
    },
    {
      "cell_type": "code",
      "source": [
        "def err_Mid():\n",
        "    error_lst = [] # Accumulator\n",
        "    for i in range(len(lst_x)):\n",
        "        error = abs((lst_x[i] - lst_mid_x[i])/lst_x[i]) # collecting values for error plotting\n",
        "        error_lst.append(error)\n",
        "    plt.plot(lst_mid_t, error_lst) # plotting\n",
        "err_Mid()"
      ],
      "metadata": {
        "colab": {
          "base_uri": "https://localhost:8080/",
          "height": 265
        },
        "id": "XgOQ1q46T0_q",
        "outputId": "9a3787f2-df75-42f3-8652-df41956411a2"
      },
      "execution_count": 43,
      "outputs": [
        {
          "output_type": "display_data",
          "data": {
            "text/plain": [
              "<Figure size 432x288 with 1 Axes>"
            ],
            "image/png": "[encoded data removed]"
          },
          "metadata": {
            "needs_background": "light"
          }
        }
      ]
    }
  ]
}

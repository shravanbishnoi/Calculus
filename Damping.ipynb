{
  "nbformat": 4,
  "nbformat_minor": 0,
  "metadata": {
    "colab": {
      "provenance": [],
      "authorship_tag": "ABX9TyPhTPuknMXhO3W2GnA/TBcy",
      "include_colab_link": true
    },
    "kernelspec": {
      "name": "python3",
      "display_name": "Python 3"
    },
    "language_info": {
      "name": "python"
    }
  },
  "cells": [
    {
      "cell_type": "markdown",
      "metadata": {
        "id": "view-in-github",
        "colab_type": "text"
      },
      "source": [
        "<a href=\"https://colab.research.google.com/github/shravanbishnoi/Calculus/blob/main/Damping.ipynb\" target=\"_parent\"><img src=\"https://colab.research.google.com/assets/colab-badge.svg\" alt=\"Open In Colab\"/></a>"
      ]
    },
    {
      "cell_type": "code",
      "execution_count": 5,
      "metadata": {
        "colab": {
          "base_uri": "https://localhost:8080/"
        },
        "id": "h9HzTloHjYw9",
        "outputId": "ab1a8091-fc8a-4d28-9429-8cfc2b67b4ed"
      },
      "outputs": [
        {
          "name": "stdout",
          "output_type": "stream",
          "text": [
            "Enter A: 1\n",
            "Enter B: 5\n",
            "Enter C: 4\n",
            "Enter Xo: 6\n",
            "Enter Vo: 4\n"
          ]
        }
      ],
      "source": [
        "import matplotlib.pyplot as plt\n",
        "import math\n",
        "\n",
        "# Reading inputs\n",
        "A = float(input(\"Enter A: \"))\n",
        "B = float(input(\"Enter B: \"))\n",
        "C = float(input(\"Enter C: \"))\n",
        "Xo = float(input(\"Enter Xo: \")) # initial Xo\n",
        "Vo = float(input(\"Enter Vo: \"))  # initial Vo"
      ]
    },
    {
      "cell_type": "code",
      "source": [
        "# calculating disccriminant\n",
        "D = ((pow(B,2)) - 4*A*C)\n",
        "alpha = B/(2*A)  # Calculating alpha\n",
        "beta = pow((abs((pow(B, 2)/(4*pow(A, 2)))-(C/A))),0.5)  # Calculating beta"
      ],
      "metadata": {
        "id": "dtOIZ1IxoJcz"
      },
      "execution_count": 6,
      "outputs": []
    },
    {
      "cell_type": "code",
      "source": [
        "# For D>0 it is over damped and proceeding accordingly \n",
        "if D>0:\n",
        "  print(\"Over-damped\")\n",
        "  lamda1 = -alpha + beta  # Calculating lamda 1\n",
        "  lamda2 = -alpha - beta  # Calculating lamda 2\n",
        "  D1 = (Vo - (lamda2*Xo))/(lamda1 - lamda2)\n",
        "  D2 = (Vo - (lamda1*Xo))/(lamda2 - lamda1)\n",
        "  lst_t = []  # initializing list to collect ts to plot on x-axis\n",
        "  lst_x = []  # initializing list to collect xs to plot on y-axis\n",
        "  t = 0.0\n",
        "  while t<abs(5/(alpha - beta)):\n",
        "    lst_t.append(t)\n",
        "    # calculating x for given t\n",
        "    x = D1*math.exp((-alpha+beta)*t) + D2*math.exp((-alpha-beta)*t)\n",
        "    lst_x.append(x)\n",
        "    t += 0.1 # increment\n",
        "\n",
        "elif D==0:\n",
        "  print(\"Critically damped\")\n",
        "  lst_t = []\n",
        "  lst_x = []\n",
        "  t = 0.0\n",
        "  while t<abs(5/(alpha)):\n",
        "    lst_t.append(t)\n",
        "    # calculating x for given t\n",
        "    x = (Xo + (Vo - (alpha*Xo)*t))*math.exp(alpha*t)\n",
        "    lst_x.append(x)\n",
        "    t += 0.1  # increment\n",
        "\n",
        "elif D<0:\n",
        "  print(\"Under-damped\")\n",
        "  lst_t = []   # initializing list to collect ts to plot on x-axis\n",
        "  lst_x = []   # initializing list to collect xs to plot on y-axis\n",
        "  t = 0.0\n",
        "  while t<abs(5/(alpha)):\n",
        "    lst_t.append(t)\n",
        "    # calculating x for given t\n",
        "    x = math.exp(-alpha*t)*((Xo*math.cos(beta*t)) + ((Vo+alpha*Xo)/beta)*math.sin(beta*t))\n",
        "    lst_x.append(x)\n",
        "    t += 0.1   # increment"
      ],
      "metadata": {
        "id": "Z6jGYJXFNfh6",
        "colab": {
          "base_uri": "https://localhost:8080/"
        },
        "outputId": "ac31eca0-1b69-4c70-aabe-142cba9a60f0"
      },
      "execution_count": 7,
      "outputs": [
        {
          "output_type": "stream",
          "name": "stdout",
          "text": [
            "Over-damped\n"
          ]
        }
      ]
    },
    {
      "cell_type": "code",
      "source": [
        "# for the  graph to be ploted\n",
        "fig = plt.plot(lst_t,lst_x)"
      ],
      "metadata": {
        "colab": {
          "base_uri": "https://localhost:8080/",
          "height": 265
        },
        "id": "aEizn9ssn41g",
        "outputId": "0558f688-39d3-457f-f1ec-030753d11c58"
      },
      "execution_count": 8,
      "outputs": [
        {
          "output_type": "display_data",
          "data": {
            "text/plain": [
              "<Figure size 432x288 with 1 Axes>"
            ],
            "image/png": "[encoded data removed]"
          },
          "metadata": {
            "needs_background": "light"
          }
        }
      ]
    }
  ]
}
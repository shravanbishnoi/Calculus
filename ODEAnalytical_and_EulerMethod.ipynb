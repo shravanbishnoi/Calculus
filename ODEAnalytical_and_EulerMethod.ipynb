{
  "nbformat": 4,
  "nbformat_minor": 0,
  "metadata": {
    "colab": {
      "provenance": [],
      "authorship_tag": "ABX9TyNkNub4sl/MC/tpw7odwk9T",
      "include_colab_link": true
    },
    "kernelspec": {
      "name": "python3",
      "display_name": "Python 3"
    },
    "language_info": {
      "name": "python"
    }
  },
  "cells": [
    {
      "cell_type": "markdown",
      "metadata": {
        "id": "view-in-github",
        "colab_type": "text"
      },
      "source": [
        "<a href=\"https://colab.research.google.com/github/shravanbishnoi/Calculus/blob/main/ODE_Analytical_and_Euler_method.ipynb\" target=\"_parent\"><img src=\"https://colab.research.google.com/assets/colab-badge.svg\" alt=\"Open In Colab\"/></a>"
      ]
    },
    {
      "cell_type": "markdown",
      "source": [
        "Solve the following ODE using Analytical and Euler method dx/dt = x"
      ],
      "metadata": {
        "id": "b8J-AvHqJbBM"
      }
    },
    {
      "cell_type": "code",
      "execution_count": 3,
      "metadata": {
        "id": "_6IbiVSa8x_-"
      },
      "outputs": [],
      "source": [
        "# importing required modules\n",
        "import matplotlib.pyplot as plt\n",
        "import math"
      ]
    },
    {
      "cell_type": "code",
      "source": [
        "# solving using Analytical method for ploting dx/dt = math.exp(t)\n",
        "lst_t = [] # initializer for a list of value on xaxis\n",
        "lst_x = [] # initializer for a list of value on yaxis\n",
        "t = 0.0\n",
        "while t<5:\n",
        "  lst_t.append(t)\n",
        "  x = math.exp(t)\n",
        "  lst_x.append(x)\n",
        "  t += 0.1"
      ],
      "metadata": {
        "id": "8iQJ6S9QlUmp"
      },
      "execution_count": 4,
      "outputs": []
    },
    {
      "cell_type": "code",
      "source": [
        "# Solving using EULER METHOD for ploting dx/dt = math.exp(t) without computing mathematically\n",
        "lst_t1 = [] # initializer for a list of value on xaxis\n",
        "lst_x1 = [] # initializer for a list of value on yaxis\n",
        "delta_t = 0.01  # Given delta\n",
        "x_hat = 1  # Given x_hat\n",
        "t1 = 0\n",
        "while t1<5:\n",
        "  lst_t1.append(t1)\n",
        "  # Calculating x for given delta\n",
        "  x_hat += (x_hat)*delta_t\n",
        "  lst_x1.append(x_hat)\n",
        "  t1 += 0.01 # increment\n"
      ],
      "metadata": {
        "id": "XNM9mYpP9tAs"
      },
      "execution_count": 5,
      "outputs": []
    },
    {
      "cell_type": "code",
      "source": [
        "# for comparing we plot both on the same page\n",
        "plt.plot(lst_t, lst_x, label = 'Analytical')\n",
        "plt.plot(lst_t1, lst_x1, label = 'Euler method')"
      ],
      "metadata": {
        "colab": {
          "base_uri": "https://localhost:8080/",
          "height": 282
        },
        "id": "y7yxDhJFHoC6",
        "outputId": "f9991692-8bb1-418c-a026-8f01e9888c9e"
      },
      "execution_count": 6,
      "outputs": [
        {
          "output_type": "execute_result",
          "data": {
            "text/plain": [
              "[<matplotlib.lines.Line2D at 0x7fd8ed7a0190>]"
            ]
          },
          "metadata": {},
          "execution_count": 6
        },
        {
          "output_type": "display_data",
          "data": {
            "text/plain": [
              "<Figure size 432x288 with 1 Axes>"
            ],
            "image/png": "[encoded data removed]"
          },
          "metadata": {
            "needs_background": "light"
          }
        }
      ]
    }
  ]
}
